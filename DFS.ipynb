{
 "cells": [
  {
   "cell_type": "code",
   "execution_count": 1,
   "metadata": {},
   "outputs": [
    {
     "name": "stdout",
     "output_type": "stream",
     "text": [
      "\n",
      "Color of each node:  {'A': 'B', 'B': 'B', 'C': 'W', 'D': 'B', 'E': 'B', 'F': 'W', 'G': 'W'}\n",
      "\n",
      "Travel time of each node:  {'A': [0, 7], 'B': [1, 6], 'C': [-1, -1], 'D': [2, 5], 'E': [3, 4], 'F': [-1, -1], 'G': [-1, -1]}\n",
      "\n",
      "Parent of each node:  {'A': None, 'B': 'A', 'C': None, 'D': 'B', 'E': 'D', 'F': None, 'G': None}\n",
      "\n",
      "DFS Path:  ['A', 'B', 'D', 'E']\n"
     ]
    }
   ],
   "source": [
    "adj_list = {\"A\": [\"B\",\"D\",\"E\"],\n",
    "            \"B\": [\"B\",\"D\",\"E\"],\n",
    "            \"C\": [\"B\",\"D\",\"E\"],\n",
    "            \"D\": [\"B\",\"D\",\"E\"],\n",
    "            \"E\": [\"B\",\"D\",\"E\"],\n",
    "            \"F\": [\"B\",\"D\",\"E\"],\n",
    "            \"G\": [\"B\",\"D\",\"E\"]}\n",
    "color = dict()\n",
    "parent = dict()\n",
    "trav_time = dict()\n",
    "stack = []\n",
    "for node in adj_list.keys():\n",
    "    color[node] = \"W\"\n",
    "    parent[node] = None\n",
    "    trav_time[node] = [-1,-1]\n",
    "\n",
    "time = 0\n",
    "def dfs_util(node):\n",
    "    global time\n",
    "    color[node] = \"G\"\n",
    "    trav_time[node][0]=time\n",
    "    stack.append(node)\n",
    "    time+=1\n",
    "    for v in adj_list[node]:\n",
    "        if color[v] == \"W\":\n",
    "            parent[v]=node\n",
    "            dfs_util(v)\n",
    "    color[node]=\"B\"\n",
    "    trav_time[node][1]=time\n",
    "    time+=1\n",
    "dfs_util(\"A\")\n",
    "print(\"\\nColor of each node: \",color)\n",
    "print(\"\\nTravel time of each node: \",trav_time)\n",
    "print(\"\\nParent of each node: \",parent)\n",
    "print(\"\\nDFS Path: \",stack)"
   ]
  }
 ],
 "metadata": {
  "kernelspec": {
   "display_name": "base",
   "language": "python",
   "name": "python3"
  },
  "language_info": {
   "codemirror_mode": {
    "name": "ipython",
    "version": 3
   },
   "file_extension": ".py",
   "mimetype": "text/x-python",
   "name": "python",
   "nbconvert_exporter": "python",
   "pygments_lexer": "ipython3",
   "version": "3.10.9"
  },
  "orig_nbformat": 4
 },
 "nbformat": 4,
 "nbformat_minor": 2
}
